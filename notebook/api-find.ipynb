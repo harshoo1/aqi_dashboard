{
 "cells": [
  {
   "cell_type": "code",
   "execution_count": 1,
   "metadata": {},
   "outputs": [],
   "source": [
    "import json\n",
    "\n",
    "from openaq import OpenAQ\n"
   ]
  },
  {
   "cell_type": "code",
   "execution_count": 4,
   "metadata": {},
   "outputs": [],
   "source": [
    "with open(\"../private.json\") as f:\n",
    "    private = json.load(f)\n",
    "    f.close()\n",
    "\n",
    "openaq_key = private[\"openaq-api-key\"]"
   ]
  },
  {
   "cell_type": "code",
   "execution_count": 5,
   "metadata": {},
   "outputs": [
    {
     "data": {
      "text/plain": [
       "<openaq._sync.client.OpenAQ at 0x76c54ab25280>"
      ]
     },
     "execution_count": 5,
     "metadata": {},
     "output_type": "execute_result"
    }
   ],
   "source": [
    "client  = OpenAQ(api_key=openaq_key)\n",
    "\n",
    "client"
   ]
  },
  {
   "cell_type": "code",
   "execution_count": 7,
   "metadata": {},
   "outputs": [
    {
     "data": {
      "text/plain": [
       "Meta(name='openaq-api', website='/', page=1, limit=999, found=105)"
      ]
     },
     "execution_count": 7,
     "metadata": {},
     "output_type": "execute_result"
    }
   ],
   "source": [
    "india_bbox_location = client.locations.list(bbox=[76.393433,27.766191,78.145752,29.161756],limit=999)\n",
    "india_bbox_location.meta"
   ]
  },
  {
   "cell_type": "code",
   "execution_count": 10,
   "metadata": {},
   "outputs": [
    {
     "data": {
      "text/plain": [
       "{'id': 13,\n",
       " 'name': 'Delhi Technological University, Delhi - CPCB',\n",
       " 'locality': None,\n",
       " 'timezone': 'Asia/Kolkata',\n",
       " 'country': CountryBase(id=9, code='IN', name='India'),\n",
       " 'owner': OwnerBase(id=4, name='Unknown Governmental Organization'),\n",
       " 'provider': ProviderBase(id=168, name='CPCB'),\n",
       " 'is_mobile': False,\n",
       " 'is_monitor': True,\n",
       " 'instruments': [InstrumentBase(id=2, name='Government Monitor')],\n",
       " 'sensors': [SensorBase(id=13866, name='no2 µg/m³', parameter=ParameterBase(id=5, name='no2', units='µg/m³', display_name='NO₂ mass')),\n",
       "  SensorBase(id=24, name='o3 µg/m³', parameter=ParameterBase(id=3, name='o3', units='µg/m³', display_name='O₃ mass')),\n",
       "  SensorBase(id=13864, name='pm25 µg/m³', parameter=ParameterBase(id=2, name='pm25', units='µg/m³', display_name='PM2.5'))],\n",
       " 'coordinates': Coordinates(latitude=28.744, longitude=77.12),\n",
       " 'bounds': [77.12, 28.744, 77.12, 28.744],\n",
       " 'distance': None,\n",
       " 'datetime_first': Datetime(utc='2016-11-02T19:00:00Z', local='2016-11-03T00:30:00+05:30'),\n",
       " 'datetime_last': Datetime(utc='2018-02-22T04:00:00Z', local='2018-02-22T09:30:00+05:30')}"
      ]
     },
     "execution_count": 10,
     "metadata": {},
     "output_type": "execute_result"
    }
   ],
   "source": [
    "india_bbox_location.results[0].__dict__"
   ]
  },
  {
   "cell_type": "code",
   "execution_count": 11,
   "metadata": {},
   "outputs": [
    {
     "data": {
      "text/plain": [
       "{13: 'Delhi Technological University, Delhi - CPCB',\n",
       " 15: 'IGI Airport',\n",
       " 16: 'Civil Lines',\n",
       " 17: 'R K Puram, Delhi - DPCC',\n",
       " 50: 'Punjabi Bagh, Delhi - DPCC',\n",
       " 103: 'Income Tax Office, Delhi - CPCB',\n",
       " 235: 'Anand Vihar, Delhi - DPCC',\n",
       " 236: 'Mandir Marg, Delhi - DPCC',\n",
       " 301: 'Vikas Sadan, Gurugram - HSPCB',\n",
       " 346: 'MD University, Rohtak - HSPCB',\n",
       " 431: 'IHBAS, Delhi - CPCB',\n",
       " 2503: 'Shadipur, Delhi - CPCB',\n",
       " 2587: 'Sector16A, Faridabad - HSPCB',\n",
       " 2597: 'US Diplomatic Post: New Delhi',\n",
       " 5509: 'Anand Vihar, Delhi - DPCC',\n",
       " 5540: 'Punjabi Bagh, Delhi - DPCC',\n",
       " 5541: 'Burari Crossing, Delhi - IMD',\n",
       " 5552: 'MD University, Rohtak - HSPCB',\n",
       " 5570: 'Aya Nagar, Delhi - IMD',\n",
       " 5581: 'Pusa, New Delhi - IMD',\n",
       " 5610: 'North Campus, DU, Delhi - IMD',\n",
       " 5613: 'ITO, Delhi - CPCB',\n",
       " 5617: 'Sector- 16A, Faridabad - HSPCB',\n",
       " 5622: 'NSIT Dwarka, Delhi - CPCB',\n",
       " 5626: 'DTU, Delhi - CPCB',\n",
       " 5627: 'CRRI Mathura Road, Delhi - IMD',\n",
       " 5630: 'Shadipur, Delhi - CPCB',\n",
       " 5634: 'Lodhi Road, Delhi - IMD',\n",
       " 5639: 'R K Puram, New Delhi - DPCC',\n",
       " 5641: 'Mandir Marg, New Delhi - DPCC',\n",
       " 5665: 'Vasundhara, Ghaziabad - UPPCB',\n",
       " 5742: 'Patparganj, Delhi - DPCC',\n",
       " 5743: 'Rohini, Delhi - DPCC',\n",
       " 5744: 'Dr. Karni Singh Shooting Range, Delhi - DPCC',\n",
       " 5753: 'Vivek Vihar, Delhi - DPCC',\n",
       " 5754: 'Jawaharlal Nehru Stadium, Delhi - DPCC',\n",
       " 5755: 'Major Dhyan Chand National Stadium, Delhi - DPCC',\n",
       " 5759: 'Sonia Vihar, Delhi - DPCC',\n",
       " 5760: 'Dwarka-Sector 8, Delhi - DPCC ',\n",
       " 5761: 'Jahangirpuri, Delhi - DPCC',\n",
       " 5762: 'Ashok Vihar, Delhi - DPCC',\n",
       " 5763: 'Narela, Delhi - DPCC',\n",
       " 5765: 'Okhla Phase-2, Delhi - DPCC',\n",
       " 5766: 'Nehru Nagar, Delhi - DPCC',\n",
       " 6314: 'NISE Gwal Pahari, Gurugram - IMD',\n",
       " 6357: 'Punjabi Bagh, Delhi - DPCC',\n",
       " 6358: 'Mandir Marg, Delhi - DPCC',\n",
       " 6359: 'IHBAS, Dilshad Garden, Delhi - CPCB',\n",
       " 6924: 'Indirapuram, Ghaziabad - UPPCB',\n",
       " 6929: 'Major Dhyan Chand National Stadium, Delhi - DPCC',\n",
       " 6931: 'Dwarka-Sector 8, Delhi - DPCC ',\n",
       " 6932: 'Alipur, Delhi - DPCC',\n",
       " 6934: 'Dr. Karni Singh Shooting Range, Delhi - DPCC',\n",
       " 6936: 'Arya Nagar, Bahadurgarh - HSPCB',\n",
       " 6938: 'Vivek Vihar, Delhi - DPCC',\n",
       " 6947: 'General Hospital, Mandikhera - HSPCB',\n",
       " 6949: 'Municipal Corporation Office, Dharuhera -  HSPCB',\n",
       " 6951: 'Murthal, Sonipat - HSPCB',\n",
       " 6953: 'Sector-2 IMT, Manesar - HSPCB',\n",
       " 6957: 'Jawaharlal Nehru Stadium, Delhi - DPCC',\n",
       " 6960: 'Patparganj, Delhi - DPCC',\n",
       " 6971: 'Rishi Nagar, Kaithal - HSPCB',\n",
       " 6972: 'Nathu Colony, Ballabgarh - HSPCB',\n",
       " 6976: 'Jai Bhim Nagar, Meerut - UPPCB',\n",
       " 6978: 'Knowledge Park - III, Greater Noida - UPPCB',\n",
       " 6979: 'New Collectorate, Baghpat - UPPCB',\n",
       " 6980: 'Sector-1, Noida - UPPCB',\n",
       " 6985: 'Yamunapuram, Bulandshahr - UPPCB',\n",
       " 6986: 'Knowledge Park - V, Greater Noida - UPPCB',\n",
       " 7005: 'Loni, Ghaziabad - UPPCB',\n",
       " 7044: 'R K Puram, Delhi - DPCC',\n",
       " 7280: 'Shyam Nagar, Palwal - HSPCB',\n",
       " 7281: 'Shyam Nagar, Palwal - HSPCB',\n",
       " 7434: 'East Arjun Nagar, Delhi - CPCB',\n",
       " 7720: 'Pallavpuram Phase 2, Meerut - UPPCB',\n",
       " 7833: 'Ganga Nagar, Meerut - UPPCB',\n",
       " 8092: 'East Arjun Nagar, Delhi - CPCB',\n",
       " 8118: 'New Delhi',\n",
       " 8235: 'Jahangirpuri, Delhi - DPCC',\n",
       " 8239: 'Okhla Phase-2, Delhi - DPCC',\n",
       " 8319: 'Anand Vihar, Hapur - UPPCB',\n",
       " 8365: 'Nehru Nagar, Delhi - DPCC',\n",
       " 8472: 'Bawana, Delhi - DPCC',\n",
       " 8475: 'Sonia Vihar, Delhi - DPCC',\n",
       " 8915: 'Wazirpur, Delhi - DPCC',\n",
       " 8917: 'Ashok Vihar, Delhi - DPCC',\n",
       " 10484: 'Sri Aurobindo Marg, Delhi - DPCC',\n",
       " 10485: 'Narela, Delhi - DPCC',\n",
       " 10486: 'Mundka, Delhi - DPCC',\n",
       " 10487: 'Anand Vihar, Delhi - DPCC',\n",
       " 10488: 'Najafgarh, Delhi - DPCC',\n",
       " 10489: 'ITO, Delhi - CPCB',\n",
       " 10825: 'Sector-51, Gurugram - HSPCB',\n",
       " 10831: 'Rohini, Delhi - DPCC',\n",
       " 10900: 'Teri Gram, Gurugram - HSPCB',\n",
       " 10906: 'Murthal, Sonipat - HSPCB',\n",
       " 10908: 'Sector 11, Faridabad - HSPCB',\n",
       " 10919: 'Sanjay Nagar, Ghaziabad - UPPCB',\n",
       " 10921: 'NISE Gwal Pahari, Gurugram - IMD',\n",
       " 11603: 'Chandni Chowk, Delhi - IITM',\n",
       " 11607: 'Lodhi Road, Delhi - IITM',\n",
       " 301388: 'Sardar Patel Inter College, Baghpat - UPPCB',\n",
       " 346439: 'Kalindi Kunj, Khurja - UPPCB',\n",
       " 2860223: 'GK1 (Oberoi Terrace)',\n",
       " 3024966: 'NASA GSFC Rutgers Calib. N8'}"
      ]
     },
     "execution_count": 11,
     "metadata": {},
     "output_type": "execute_result"
    }
   ],
   "source": [
    "locations_info = {}\n",
    "\n",
    "for location in india_bbox_location.results:\n",
    "    locations_info[location.id] = location.name\n",
    "\n",
    "locations_info"
   ]
  },
  {
   "cell_type": "code",
   "execution_count": 12,
   "metadata": {},
   "outputs": [
    {
     "data": {
      "text/plain": [
       "105"
      ]
     },
     "execution_count": 12,
     "metadata": {},
     "output_type": "execute_result"
    }
   ],
   "source": [
    "len(locations_info)"
   ]
  },
  {
   "cell_type": "code",
   "execution_count": 13,
   "metadata": {},
   "outputs": [],
   "source": [
    "with open(\"../location.json\",\"w\",encoding=\"utf-8\") as f:\n",
    "    json.dump(locations_info,f,ensure_ascii=False,indent=4)\n",
    "    f.close()"
   ]
  },
  {
   "cell_type": "code",
   "execution_count": null,
   "metadata": {},
   "outputs": [],
   "source": []
  },
  {
   "cell_type": "code",
   "execution_count": null,
   "metadata": {},
   "outputs": [],
   "source": []
  },
  {
   "cell_type": "code",
   "execution_count": null,
   "metadata": {},
   "outputs": [],
   "source": []
  },
  {
   "cell_type": "code",
   "execution_count": null,
   "metadata": {},
   "outputs": [],
   "source": []
  }
 ],
 "metadata": {
  "kernelspec": {
   "display_name": "venv",
   "language": "python",
   "name": "python3"
  },
  "language_info": {
   "codemirror_mode": {
    "name": "ipython",
    "version": 3
   },
   "file_extension": ".py",
   "mimetype": "text/x-python",
   "name": "python",
   "nbconvert_exporter": "python",
   "pygments_lexer": "ipython3",
   "version": "3.12.3"
  }
 },
 "nbformat": 4,
 "nbformat_minor": 2
}
